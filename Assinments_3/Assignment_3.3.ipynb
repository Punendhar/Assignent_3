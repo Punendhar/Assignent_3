{
 "cells": [
  {
   "cell_type": "markdown",
   "metadata": {},
   "source": [
    "1) Write a python program which creates a class named Cone and write a\n",
    "function calculate_area which calculates the area of the Cone.\n",
    "\n",
    "    Sample Execution:\n",
    "    Please enter the radius of the cone: 4\n",
    "    Please enter the height of the cone: 5\n",
    "    Area of a cone with radius: 4.00 and height: 5.00 is: 83.73"
   ]
  },
  {
   "cell_type": "code",
   "execution_count": 18,
   "metadata": {},
   "outputs": [
    {
     "name": "stdout",
     "output_type": "stream",
     "text": [
      "Please enter the radius of the cone: 4\n",
      "Please enter the height of the cone: 5\n",
      "Area of a cone with radius: 4 and height: 5 is:  83.78\n"
     ]
    }
   ],
   "source": [
    "import math as m\n",
    "\n",
    "class Cone:\n",
    "    def calculate_area(self,r,h):\n",
    "        self.r = r\n",
    "        self.h = h\n",
    "        s_r = r**2\n",
    "        #V=πr2h/3\n",
    "        Area = (m.pi*s_r*h)/3\n",
    "        return Area\n",
    "c = Cone()       \n",
    "r = int(input(\"Please enter the radius of the cone: \"))\n",
    "h = int(input(\"Please enter the height of the cone: \"))\n",
    "Area = round(c.calculate_area(r,h),2) \n",
    "print(\"Area of a cone with radius: {} and height: {} is: \".format(r,h),Area)\n",
    "        "
   ]
  },
  {
   "cell_type": "markdown",
   "metadata": {},
   "source": [
    "2) Define a class MathOperation which implements pow(x,n) without using\n",
    "python's in-built pow() method\n",
    "\n",
    "    Sample Execution:\n",
    "    M = MathOperation()\n",
    "    print(M.pow(2, 3))\n",
    "    8\n",
    "    print(M.pow(5, -3))\n",
    "    0.008\n",
    "    print(M.pow(-2, 5))\n",
    "    -32\n",
    "    print(M.pow(-5, -3))\n",
    "    -0.008\n",
    "    print(M.pow(20000,0))\n",
    "    1"
   ]
  },
  {
   "cell_type": "code",
   "execution_count": 22,
   "metadata": {},
   "outputs": [
    {
     "name": "stdout",
     "output_type": "stream",
     "text": [
      "8\n",
      "0.008\n",
      "-32\n",
      "-0.008\n",
      "1\n"
     ]
    }
   ],
   "source": [
    "class MathOperation:\n",
    "    def pow(self,x,n):\n",
    "        self.x = x\n",
    "        self.n = n\n",
    "        return x**n\n",
    "        \n",
    "M = MathOperation()\n",
    "print (M.pow(2,3))\n",
    "print(M.pow(5, -3))\n",
    "print(M.pow(-2, 5))\n",
    "print(M.pow(-5, -3))\n",
    "print(M.pow(20000,0))"
   ]
  },
  {
   "cell_type": "markdown",
   "metadata": {},
   "source": [
    "3) Write a python program that creates a class Base and Derived. Use inbuilt function issubclass and isinstance which gives boolean results.(True or False)\n",
    "    \n",
    "        Check:\n",
    "        Derived class is a subclass of Base class which will return true\n",
    "        Base class is a subclass of Derived class which will return false\n",
    "        Base class is an instance of Derived class which will return false\n",
    "        Derived class is an instance of Base class which will return true"
   ]
  },
  {
   "cell_type": "code",
   "execution_count": 35,
   "metadata": {},
   "outputs": [
    {
     "name": "stdout",
     "output_type": "stream",
     "text": [
      "True\n",
      "False\n",
      "False\n",
      "False\n"
     ]
    }
   ],
   "source": [
    "class Base:\n",
    "    def new_obj(self):\n",
    "          return self.__class__()\n",
    "    \n",
    "class Derived(Base):\n",
    "    pass\n",
    "\n",
    "b = Base()\n",
    "d = Derived()\n",
    "    \n",
    "#Derived class is a subclass of Base class which will return true\n",
    "print(issubclass(Derived, Base))\n",
    "#Base class is a subclass of Derived class which will return false\n",
    "print(issubclass(Base, Derived))\n",
    "#Base class is an instance of Derived class which will return false\n",
    "print(isinstance(Base, Derived))\n",
    "#Derived class is an instance of Base class which will return true\n",
    "print(isinstance(Derived, Base))"
   ]
  },
  {
   "cell_type": "markdown",
   "metadata": {},
   "source": [
    "4) Write a python program that creates base class Person which has two\n",
    "methods\n",
    "\n",
    "    def __init__(self, first, last)\n",
    "    def __str__(self)\n",
    "    Also create a derived class named Employee which uses the base class\n",
    "    method “def __str__(self)” using “super()” to concatenate first name with last name"
   ]
  },
  {
   "cell_type": "code",
   "execution_count": 12,
   "metadata": {},
   "outputs": [
    {
     "name": "stdout",
     "output_type": "stream",
     "text": [
      "Kota Punendhar\n"
     ]
    }
   ],
   "source": [
    "class Person:\n",
    "    def __init__(self, first, last):\n",
    "        self.first = first\n",
    "        self.last = last\n",
    "    def __str__(self):\n",
    "        print('{} {}'.format(self.first,self.last))\n",
    "class Employee(Person):\n",
    "    def __init__(self,first,last):\n",
    "        super().__init__(first,last)\n",
    "        super().__str__()\n",
    "    \n",
    "e = Employee('Kota','Punendhar')\n",
    "    "
   ]
  }
 ],
 "metadata": {
  "kernelspec": {
   "display_name": "Python 3",
   "language": "python",
   "name": "python3"
  },
  "language_info": {
   "codemirror_mode": {
    "name": "ipython",
    "version": 3
   },
   "file_extension": ".py",
   "mimetype": "text/x-python",
   "name": "python",
   "nbconvert_exporter": "python",
   "pygments_lexer": "ipython3",
   "version": "3.7.1"
  }
 },
 "nbformat": 4,
 "nbformat_minor": 2
}
